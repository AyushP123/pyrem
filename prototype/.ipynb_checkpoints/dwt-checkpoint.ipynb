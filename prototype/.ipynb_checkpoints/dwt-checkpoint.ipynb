{
 "metadata": {
  "name": "",
  "signature": "sha256:95931ac895d314bbe0eb7c8874f77f9cf9b74c5e0fd54403bb8ad651d3d5747b"
 },
 "nbformat": 3,
 "nbformat_minor": 0,
 "worksheets": []
}