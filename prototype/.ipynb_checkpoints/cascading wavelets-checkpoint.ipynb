{
 "metadata": {
  "name": "",
  "signature": "sha256:ea7362e15e0ee125c18ec7246cde648717051bd77f1818c0a774a5b0604f39e9"
 },
 "nbformat": 3,
 "nbformat_minor": 0,
 "worksheets": []
}