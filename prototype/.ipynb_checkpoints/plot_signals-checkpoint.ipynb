{
 "metadata": {
  "name": "",
  "signature": "sha256:e95ccb6fc70d7b7c3e1acb8cede671cc5dabc2f8ef3bb31989acc77eea3a2685"
 },
 "nbformat": 3,
 "nbformat_minor": 0,
 "worksheets": [
  {
   "cells": [
    {
     "cell_type": "code",
     "collapsed": false,
     "input": [
      "%pylab inline"
     ],
     "language": "python",
     "metadata": {},
     "outputs": [
      {
       "output_type": "stream",
       "stream": "stdout",
       "text": [
        "Populating the interactive namespace from numpy and matplotlib\n"
       ]
      }
     ],
     "prompt_number": 1
    },
    {
     "cell_type": "code",
     "collapsed": false,
     "input": [
      "import pyrem as pr\n",
      "import numpy as np\n",
      "import pylab as pl"
     ],
     "language": "python",
     "metadata": {},
     "outputs": [],
     "prompt_number": 2
    },
    {
     "cell_type": "code",
     "collapsed": false,
     "input": [
      "a_seq = np.sin(np.arange(0,5000*pi, 1))\n",
      "a_seq = a_seq + np.random.normal(0, 1,size =a_seq.size)\n",
      "b_seq = np.sin(np.arange(0,10000*pi, 2))\n",
      "b_seq = b_seq +  np.random.normal(0, 1,size =b_seq.size)\n",
      "\n",
      "c_seq = np.sin(np.arange(0,15000*pi, 3))  + np.sin(np.arange(0,2500*pi, 0.5))\n",
      "c_seq = c_seq +  np.random.normal(0, 1,size =c_seq.size)\n",
      "seq = np.concatenate([a_seq, b_seq, c_seq])"
     ],
     "language": "python",
     "metadata": {},
     "outputs": [],
     "prompt_number": 3
    },
    {
     "cell_type": "code",
     "collapsed": false,
     "input": [
      "seq = np.genfromtxt(\"/home/quentin/Desktop/rem_chunking/test_eeg_no_header.txt\")\n",
      "sig = pr.Signal(seq, 200.0)\n"
     ],
     "language": "python",
     "metadata": {},
     "outputs": [],
     "prompt_number": 4
    },
    {
     "cell_type": "code",
     "collapsed": false,
     "input": [
      "print seq.size\n"
     ],
     "language": "python",
     "metadata": {},
     "outputs": [
      {
       "output_type": "stream",
       "stream": "stdout",
       "text": [
        "11822762\n"
       ]
      }
     ],
     "prompt_number": 15
    },
    {
     "cell_type": "code",
     "collapsed": false,
     "input": [
      "img = []\n",
      "for c,s in sig.embed_seq(5000000, 5000000/2.5):\n",
      "    \n",
      "    ff_trans = np.fft.fft(s)\n",
      "    freqs = np.fft.fftfreq(ff_trans.size, 1/sig.sampling_freq)\n",
      "    power = np.abs(ff_trans)**2\n",
      "    idx = np.argsort(freqs)\n",
      "    idx = np.argsort(freqs)\n",
      "    out_powers = power[idx]\n",
      "    out_freqs = np.absolute(freqs[idx])\n",
      "    out_powers = out_powers / sum(out_powers)\n",
      "    print out_freqs[argmax(out_powers)]\n",
      "    N = 1e5\n",
      "#     out_powers = np.round(out_powers * N).astype(np.int32)\n",
      "#     freqs_vec = []\n",
      "    \n",
      "#     for  o,f in zip(out_powers, out_freqs):\n",
      "#         freqs_vec.extend([f] * o)\n",
      "#     n, bins = np.histogram(freqs_vec, 100, range = (0,sig.sampling_freq/2))\n",
      "    img.append(out_powers)\n",
      "    \n",
      "    \n",
      "img = np.array(img)\n",
      "\n",
      "pl.imshow(np.log10(img+1))"
     ],
     "language": "python",
     "metadata": {},
     "outputs": [
      {
       "output_type": "stream",
       "stream": "stdout",
       "text": [
        "99.99992\n",
        "99.99996"
       ]
      },
      {
       "output_type": "stream",
       "stream": "stdout",
       "text": [
        "\n",
        "99.99996"
       ]
      },
      {
       "output_type": "stream",
       "stream": "stdout",
       "text": [
        "\n",
        "99.99996"
       ]
      },
      {
       "output_type": "stream",
       "stream": "stdout",
       "text": [
        "\n"
       ]
      },
      {
       "metadata": {},
       "output_type": "pyout",
       "prompt_number": 49,
       "text": [
        "<matplotlib.image.AxesImage at 0x7f99fafc9cd0>"
       ]
      },
      {
       "metadata": {},
       "output_type": "display_data",
       "png": "[encoded data removed]",
       "text": [
        "<matplotlib.figure.Figure at 0x7f99fb0e5a90>"
       ]
      }
     ],
     "prompt_number": 49
    },
    {
     "cell_type": "code",
     "collapsed": false,
     "input": [
      "ff_trans = np.fft.fft(sig[1:30000])"
     ],
     "language": "python",
     "metadata": {},
     "outputs": [],
     "prompt_number": 5
    },
    {
     "cell_type": "code",
     "collapsed": false,
     "input": [
      "freqs = np.fft.fftfreq(ff_trans.size, 1/sig.sampling_freq)"
     ],
     "language": "python",
     "metadata": {},
     "outputs": [],
     "prompt_number": 6
    },
    {
     "cell_type": "code",
     "collapsed": false,
     "input": [
      "power = np.abs(ff_trans)**2"
     ],
     "language": "python",
     "metadata": {},
     "outputs": [],
     "prompt_number": 7
    },
    {
     "cell_type": "code",
     "collapsed": false,
     "input": [],
     "language": "python",
     "metadata": {},
     "outputs": [],
     "prompt_number": 25
    },
    {
     "cell_type": "code",
     "collapsed": false,
     "input": [
      "plot(out_freqs, out_powers, '.')"
     ],
     "language": "python",
     "metadata": {},
     "outputs": [
      {
       "metadata": {},
       "output_type": "pyout",
       "prompt_number": 27,
       "text": [
        "[<matplotlib.lines.Line2D at 0x7f9f3c1081d0>]"
       ]
      },
      {
       "metadata": {},
       "output_type": "display_data",
       "png": "[encoded data removed]",
       "text": [
        "<matplotlib.figure.Figure at 0x7f9f3c1be4d0>"
       ]
      }
     ],
     "prompt_number": 27
    },
    {
     "cell_type": "code",
     "collapsed": false,
     "input": [],
     "language": "python",
     "metadata": {},
     "outputs": []
    }
   ],
   "metadata": {}
  }
 ]
}